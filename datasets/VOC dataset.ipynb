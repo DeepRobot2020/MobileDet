{
 "cells": [
  {
   "cell_type": "code",
   "execution_count": 8,
   "metadata": {},
   "outputs": [],
   "source": [
    "import io\n",
    "import os\n",
    "import numpy as np\n",
    "import h5py\n",
    "import PIL\n",
    "import matplotlib.pyplot as plt"
   ]
  },
  {
   "cell_type": "code",
   "execution_count": 55,
   "metadata": {},
   "outputs": [],
   "source": [
    "data_path = '~/data/pascal_voc_07_12_person_vehicle.hdf5'\n",
    "voc_path = os.path.expanduser(data_path)\n",
    "voc = h5py.File(voc_path, 'r')"
   ]
  },
  {
   "cell_type": "code",
   "execution_count": 56,
   "metadata": {},
   "outputs": [],
   "source": [
    "train_boxes = []\n",
    "dataset = ['train', 'valid']\n",
    "for d in dataset:\n",
    "    # explore the train set\n",
    "    for i in range(voc[d + '/boxes'].shape[0]):\n",
    "        image = PIL.Image.open(io.BytesIO(voc[d + '/images'][i]))\n",
    "        orig_size = np.array([image.width, image.height])\n",
    "        orig_size = np.expand_dims(orig_size, axis=0)\n",
    "        boxes = voc[d + '/boxes'][i]\n",
    "        boxes = boxes.reshape((-1, 5))\n",
    "        # normalize the bound box sizes\n",
    "        boxes_wh = boxes[:, 3:5] - boxes[:, 1:3]\n",
    "        boxes_wh = boxes_wh / orig_size\n",
    "        boxes = np.concatenate((boxes_wh, boxes[:, 0:1]), axis=1)\n",
    "        boxes = boxes.tolist()\n",
    "        for b in boxes:\n",
    "            train_boxes.append(b)"
   ]
  },
  {
   "cell_type": "code",
   "execution_count": 109,
   "metadata": {},
   "outputs": [
    {
     "data": {
      "text/plain": [
       "3274"
      ]
     },
     "execution_count": 109,
     "metadata": {},
     "output_type": "execute_result"
    }
   ],
   "source": [
    "train_boxes = np.array(train_boxes)\n",
    "person_boxes = train_boxes[train_boxes[:,2] < 0.5]\n",
    "vechile_boxes = train_boxes[train_boxes[:,2] > 0.5]\n",
    "person_boxes.shape[0]\n",
    "vechile_boxes.shape[0]"
   ]
  },
  {
   "cell_type": "code",
   "execution_count": 107,
   "metadata": {},
   "outputs": [
    {
     "data": {
      "image/png": "[encoded data removed]",
      "text/plain": [
       "<matplotlib.figure.Figure at 0x7ffb0fcfd1d0>"
      ]
     },
     "metadata": {},
     "output_type": "display_data"
    }
   ],
   "source": [
    "objects = ('Person', 'Vehicle')\n",
    "y_pos = np.arange(len(objects))\n",
    "num_objects = (person_boxes.shape[0], vechile_boxes.shape[0])\n",
    "plt.bar(y_pos, num_objects, align='center', alpha=0.7)\n",
    "plt.xticks(y_pos, objects)\n",
    "plt.title('VOC: number of objects - Person vs. Vehicle')\n",
    "plt.show()"
   ]
  },
  {
   "cell_type": "code",
   "execution_count": 69,
   "metadata": {},
   "outputs": [
    {
     "name": "stdout",
     "output_type": "stream",
     "text": [
      "Mean area: person 0.179, vehicle 0.226\n"
     ]
    },
    {
     "data": {
      "image/png": "[encoded data removed]",
      "text/plain": [
       "<matplotlib.figure.Figure at 0x7ffb0f898f28>"
      ]
     },
     "metadata": {},
     "output_type": "display_data"
    }
   ],
   "source": [
    "area_person = person_boxes[:, 0:1] * person_boxes[:, 1:2]\n",
    "area_vehicle = vechile_boxes[:, 0:1] * vechile_boxes[:, 1:2]\n",
    "area_person_mean = np.mean(area_person)\n",
    "area_vehicle_mean = np.mean(area_vehicle)\n",
    "print('Mean area: person {}, vehicle {}'.format(round(area_person_mean, 3), round(area_vehicle_mean, 3)))\n",
    "objects = ('Person', 'Vehicle')\n",
    "y_pos = np.arange(len(objects))\n",
    "areas = (area_person_mean, area_vehicle_mean)\n",
    "plt.bar(y_pos, areas, align='center', alpha=0.7)\n",
    "plt.xticks(y_pos, objects)\n",
    "plt.title('VOC: normalize area - Person vs. Vehicle')\n",
    "plt.show()"
   ]
  },
  {
   "cell_type": "code",
   "execution_count": 106,
   "metadata": {},
   "outputs": [
    {
     "data": {
      "image/png": "[encoded data removed]",
      "text/plain": [
       "<matplotlib.figure.Figure at 0x7ffb0f522ef0>"
      ]
     },
     "metadata": {},
     "output_type": "display_data"
    }
   ],
   "source": [
    "hist, bins = np.histogram(area_person,  bins=15)\n",
    "normalized_hist = hist / float(area_person.shape[0])\n",
    "width = 0.7 * (bins[1] - bins[0])\n",
    "center = (bins[:-1] + bins[1:]) / 2\n",
    "plt.bar(center, normalized_hist, align='center', width=width)\n",
    "plt.title('VOC: area histogram of \\'Person\\'')\n",
    "plt.show()"
   ]
  },
  {
   "cell_type": "code",
   "execution_count": 105,
   "metadata": {},
   "outputs": [
    {
     "data": {
      "image/png": "[encoded data removed]",
      "text/plain": [
       "<matplotlib.figure.Figure at 0x7ffb192fda58>"
      ]
     },
     "metadata": {},
     "output_type": "display_data"
    }
   ],
   "source": [
    "hist, bins = np.histogram(area_vehicle,  bins=15)\n",
    "normalized_hist = hist / float(area_vehicle.shape[0])\n",
    "width = 0.7 * (bins[1] - bins[0])\n",
    "center = (bins[:-1] + bins[1:]) / 2\n",
    "plt.bar(center, normalized_hist, align='center', width=width)\n",
    "plt.title('VOC: area histogram of \\'Vehicle\\'')\n",
    "plt.show()"
   ]
  },
  {
   "cell_type": "code",
   "execution_count": null,
   "metadata": {},
   "outputs": [],
   "source": []
  }
 ],
 "metadata": {
  "kernelspec": {
   "display_name": "Python 3",
   "language": "python",
   "name": "python3"
  },
  "language_info": {
   "codemirror_mode": {
    "name": "ipython",
    "version": 3
   },
   "file_extension": ".py",
   "mimetype": "text/x-python",
   "name": "python",
   "nbconvert_exporter": "python",
   "pygments_lexer": "ipython3",
   "version": "3.5.2"
  }
 },
 "nbformat": 4,
 "nbformat_minor": 2
}
